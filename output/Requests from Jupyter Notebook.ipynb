{
 "cells": [
  {
   "cell_type": "markdown",
   "metadata": {},
   "source": [
    "# API-Chat-Emotions Project"
   ]
  },
  {
   "cell_type": "markdown",
   "metadata": {},
   "source": [
    "### 0. Importing libraries"
   ]
  },
  {
   "cell_type": "code",
   "execution_count": 1,
   "metadata": {},
   "outputs": [],
   "source": [
    "import requests"
   ]
  },
  {
   "cell_type": "markdown",
   "metadata": {},
   "source": [
    "### 1. User endpoints"
   ]
  },
  {
   "cell_type": "markdown",
   "metadata": {},
   "source": [
    "- (GET) `/user/create/<username>`\n",
    "  - **Purpose:** Create a user and save into DB\n",
    "  - **Params:** `username` the user name\n",
    "  - **Returns:** `user_id`"
   ]
  },
  {
   "cell_type": "code",
   "execution_count": 2,
   "metadata": {},
   "outputs": [],
   "source": [
    "lista=['Marlena','Santi','Hector','Sergio','Cristina','Maria']\n",
    "for x in lista:\n",
    "    requests.get(f\"http://localhost:5000/user/create/{x}\").text"
   ]
  },
  {
   "cell_type": "markdown",
   "metadata": {},
   "source": [
    "- (GET) `/user/<user_id>/recommend`\n",
    "  - **Purpose:** Recommend friend to this user based on chat contents\n",
    "  - **Returns:** json array with top 3 similar users"
   ]
  },
  {
   "cell_type": "code",
   "execution_count": null,
   "metadata": {},
   "outputs": [],
   "source": []
  },
  {
   "cell_type": "markdown",
   "metadata": {},
   "source": [
    "### 2. Chat endpoints:"
   ]
  },
  {
   "cell_type": "markdown",
   "metadata": {},
   "source": [
    "- (GET) `/chat/create`\n",
    "  - **Purpose:** Create a conversation to load messages\n",
    "  - **Params:** An array of users ids `[user_id]`\n",
    "  - **Returns:** `chat_id`"
   ]
  },
  {
   "cell_type": "code",
   "execution_count": 3,
   "metadata": {},
   "outputs": [
    {
     "data": {
      "text/plain": [
       "'Chat already exists'"
      ]
     },
     "execution_count": 3,
     "metadata": {},
     "output_type": "execute_result"
    }
   ],
   "source": [
    "requests.get(f\"http://localhost:5000/chat/create/HAHA\").text"
   ]
  },
  {
   "cell_type": "markdown",
   "metadata": {},
   "source": [
    "- (GET) `/chat/<chat_id>/adduser/<user_name>`\n",
    "  - **Purpose:** Add a user to a chat, this is optional just in case you want to add more users to a chat after it's creation.\n",
    "  - **Params:** `user_id`\n",
    "  - **Returns:** `chat_id`"
   ]
  },
  {
   "cell_type": "code",
   "execution_count": 4,
   "metadata": {},
   "outputs": [
    {
     "data": {
      "text/plain": [
       "'Name already exists'"
      ]
     },
     "execution_count": 4,
     "metadata": {},
     "output_type": "execute_result"
    }
   ],
   "source": [
    "requests.get(\"http://localhost:5000/chat/1/adduser/Olga\").text"
   ]
  },
  {
   "cell_type": "markdown",
   "metadata": {},
   "source": [
    "- (POST) `/chat/<chat_id>/addmessage`\n",
    "  - **Purpose:** Add a message to the conversation. Help: Before adding the chat message to the database, check that the incoming user is part of this chat id. If not, raise an exception.\n",
    "  - **Params:**\n",
    "    - `chat_id`: Chat to store message\n",
    "    - `user_id`: the user that writes the message\n",
    "    - `text`: Message text\n",
    "  - **Returns:** `message_id`"
   ]
  },
  {
   "cell_type": "code",
   "execution_count": 5,
   "metadata": {},
   "outputs": [
    {
     "data": {
      "text/plain": [
       "'This user is in the group, corresponding text inserted'"
      ]
     },
     "execution_count": 5,
     "metadata": {},
     "output_type": "execute_result"
    }
   ],
   "source": [
    "chat_id=1\n",
    "mensajes=\"jajaja\"\n",
    "user_name=\"Olga\"\n",
    "requests.get(f\"http://localhost:5000/chat/{chat_id}/mensajes/{mensajes}/adduser/{user_name}\").text"
   ]
  },
  {
   "cell_type": "markdown",
   "metadata": {},
   "source": [
    "- (GET) `/chat/<chat_id>/list`\n",
    "  - **Purpose:** Get all messages from `chat_id`\n",
    "  - **Returns:** json array with all messages from this `chat_id`"
   ]
  },
  {
   "cell_type": "code",
   "execution_count": 19,
   "metadata": {
    "scrolled": false
   },
   "outputs": [
    {
     "data": {
      "text/plain": [
       "[{'autor': 'Olga', 'texto': 'jajaja'}, {'autor': 'Olga', 'texto': 'jajaja'}]"
      ]
     },
     "execution_count": 19,
     "metadata": {},
     "output_type": "execute_result"
    }
   ],
   "source": [
    "numero=1\n",
    "requests.get(f\"http://localhost:5000/chat/{numero}/list\").json()[0]['mensajes']"
   ]
  },
  {
   "cell_type": "markdown",
   "metadata": {},
   "source": [
    "- (GET) `/chat/<chat_id>/sentiment`\n",
    "  - **Purpose:** Analyze messages from `chat_id`. Use `NLTK` sentiment analysis package for this task\n",
    "  - **Returns:** json with all sentiments from messages in the chat\n",
    "​"
   ]
  },
  {
   "cell_type": "code",
   "execution_count": null,
   "metadata": {},
   "outputs": [],
   "source": []
  }
 ],
 "metadata": {
  "kernelspec": {
   "display_name": "Python 3",
   "language": "python",
   "name": "python3"
  },
  "language_info": {
   "codemirror_mode": {
    "name": "ipython",
    "version": 3
   },
   "file_extension": ".py",
   "mimetype": "text/x-python",
   "name": "python",
   "nbconvert_exporter": "python",
   "pygments_lexer": "ipython3",
   "version": "3.7.6"
  }
 },
 "nbformat": 4,
 "nbformat_minor": 4
}

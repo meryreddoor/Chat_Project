{
 "cells": [
  {
   "cell_type": "markdown",
   "metadata": {},
   "source": [
    "# Import the corresponding Data with Pandas library"
   ]
  },
  {
   "cell_type": "code",
   "execution_count": 26,
   "metadata": {},
   "outputs": [],
   "source": [
    "import pandas as pd"
   ]
  },
  {
   "cell_type": "code",
   "execution_count": 27,
   "metadata": {},
   "outputs": [],
   "source": [
    "data = pd.read_csv(\"../input/simpsons_dataset.csv\") "
   ]
  },
  {
   "cell_type": "code",
   "execution_count": 28,
   "metadata": {},
   "outputs": [
    {
     "data": {
      "text/html": [
       "<div>\n",
       "<style scoped>\n",
       "    .dataframe tbody tr th:only-of-type {\n",
       "        vertical-align: middle;\n",
       "    }\n",
       "\n",
       "    .dataframe tbody tr th {\n",
       "        vertical-align: top;\n",
       "    }\n",
       "\n",
       "    .dataframe thead th {\n",
       "        text-align: right;\n",
       "    }\n",
       "</style>\n",
       "<table border=\"1\" class=\"dataframe\">\n",
       "  <thead>\n",
       "    <tr style=\"text-align: right;\">\n",
       "      <th></th>\n",
       "      <th>raw_character_text</th>\n",
       "      <th>spoken_words</th>\n",
       "    </tr>\n",
       "  </thead>\n",
       "  <tbody>\n",
       "    <tr>\n",
       "      <th>0</th>\n",
       "      <td>Homer Simpson</td>\n",
       "      <td>Never thrown a party¿ What about that big bash...</td>\n",
       "    </tr>\n",
       "    <tr>\n",
       "      <th>1</th>\n",
       "      <td>Homer Simpson</td>\n",
       "      <td>Bart didn't get one vote¿! Oh, this is the wor...</td>\n",
       "    </tr>\n",
       "    <tr>\n",
       "      <th>2</th>\n",
       "      <td>Lisa Simpson</td>\n",
       "      <td>Nothing.</td>\n",
       "    </tr>\n",
       "    <tr>\n",
       "      <th>3</th>\n",
       "      <td>Marge Simpson</td>\n",
       "      <td>Lisa, tell your father.</td>\n",
       "    </tr>\n",
       "    <tr>\n",
       "      <th>4</th>\n",
       "      <td>Lisa Simpson</td>\n",
       "      <td>Mr. Bergstrom left today.</td>\n",
       "    </tr>\n",
       "  </tbody>\n",
       "</table>\n",
       "</div>"
      ],
      "text/plain": [
       "  raw_character_text                                       spoken_words\n",
       "0      Homer Simpson  Never thrown a party¿ What about that big bash...\n",
       "1      Homer Simpson  Bart didn't get one vote¿! Oh, this is the wor...\n",
       "2       Lisa Simpson                                           Nothing.\n",
       "3      Marge Simpson                            Lisa, tell your father.\n",
       "4       Lisa Simpson                          Mr. Bergstrom left today."
      ]
     },
     "execution_count": 28,
     "metadata": {},
     "output_type": "execute_result"
    }
   ],
   "source": [
    "data.spoken_words=data.spoken_words.str.replace(r\"\\?\",'¿')\n",
    "data.head()"
   ]
  },
  {
   "cell_type": "code",
   "execution_count": 36,
   "metadata": {},
   "outputs": [
    {
     "data": {
      "text/plain": [
       "(54, 2)"
      ]
     },
     "execution_count": 36,
     "metadata": {},
     "output_type": "execute_result"
    }
   ],
   "source": [
    "data.shape"
   ]
  },
  {
   "cell_type": "code",
   "execution_count": 35,
   "metadata": {},
   "outputs": [
    {
     "data": {
      "text/html": [
       "<div>\n",
       "<style scoped>\n",
       "    .dataframe tbody tr th:only-of-type {\n",
       "        vertical-align: middle;\n",
       "    }\n",
       "\n",
       "    .dataframe tbody tr th {\n",
       "        vertical-align: top;\n",
       "    }\n",
       "\n",
       "    .dataframe thead th {\n",
       "        text-align: right;\n",
       "    }\n",
       "</style>\n",
       "<table border=\"1\" class=\"dataframe\">\n",
       "  <thead>\n",
       "    <tr style=\"text-align: right;\">\n",
       "      <th></th>\n",
       "      <th>raw_character_text</th>\n",
       "      <th>spoken_words</th>\n",
       "    </tr>\n",
       "  </thead>\n",
       "  <tbody>\n",
       "    <tr>\n",
       "      <th>15</th>\n",
       "      <td>Bart Simpson</td>\n",
       "      <td>Whoa, somebody was bound to say it one day. I ...</td>\n",
       "    </tr>\n",
       "    <tr>\n",
       "      <th>40</th>\n",
       "      <td>Bart Simpson</td>\n",
       "      <td>Ah, Dad, if just me, Milhouse and Lewis had vo...</td>\n",
       "    </tr>\n",
       "    <tr>\n",
       "      <th>42</th>\n",
       "      <td>Bart Simpson</td>\n",
       "      <td>No.</td>\n",
       "    </tr>\n",
       "    <tr>\n",
       "      <th>44</th>\n",
       "      <td>Bart Simpson</td>\n",
       "      <td>Yeah.</td>\n",
       "    </tr>\n",
       "    <tr>\n",
       "      <th>46</th>\n",
       "      <td>Bart Simpson</td>\n",
       "      <td>Well, no.</td>\n",
       "    </tr>\n",
       "    <tr>\n",
       "      <th>48</th>\n",
       "      <td>Bart Simpson</td>\n",
       "      <td>Hey! Thanks, monkey-man.</td>\n",
       "    </tr>\n",
       "  </tbody>\n",
       "</table>\n",
       "</div>"
      ],
      "text/plain": [
       "   raw_character_text                                       spoken_words\n",
       "15       Bart Simpson  Whoa, somebody was bound to say it one day. I ...\n",
       "40       Bart Simpson  Ah, Dad, if just me, Milhouse and Lewis had vo...\n",
       "42       Bart Simpson                                                No.\n",
       "44       Bart Simpson                                              Yeah.\n",
       "46       Bart Simpson                                          Well, no.\n",
       "48       Bart Simpson                           Hey! Thanks, monkey-man."
      ]
     },
     "execution_count": 35,
     "metadata": {},
     "output_type": "execute_result"
    }
   ],
   "source": [
    "#data=data.groupby('raw_character_text').apply(lambda x: ''.join(x.spoken_words))\n",
    "#len(data[data['autor']=='Lisa Simpson']['texto'].unique())\n",
    "data[data.raw_character_text=='Bart Simpson']"
   ]
  },
  {
   "cell_type": "markdown",
   "metadata": {},
   "source": [
    "# API-Chat-Emotions Project"
   ]
  },
  {
   "cell_type": "markdown",
   "metadata": {},
   "source": [
    "### 0. Importing libraries"
   ]
  },
  {
   "cell_type": "code",
   "execution_count": 4,
   "metadata": {},
   "outputs": [],
   "source": [
    "import requests"
   ]
  },
  {
   "cell_type": "markdown",
   "metadata": {},
   "source": [
    "### 1. User endpoints"
   ]
  },
  {
   "cell_type": "markdown",
   "metadata": {},
   "source": [
    "- (GET) `/user/create/<username>`\n",
    "  - **Purpose:** Create a user and save into DB\n",
    "  - **Params:** `username` the user name\n",
    "  - **Returns:** `user_id`"
   ]
  },
  {
   "cell_type": "code",
   "execution_count": 5,
   "metadata": {},
   "outputs": [
    {
     "data": {
      "text/plain": [
       "array(['Homer Simpson', 'Lisa Simpson', 'Marge Simpson', 'Bart Simpson'],\n",
       "      dtype=object)"
      ]
     },
     "execution_count": 5,
     "metadata": {},
     "output_type": "execute_result"
    }
   ],
   "source": [
    "list_users=data['raw_character_text'].unique()\n",
    "list_users"
   ]
  },
  {
   "cell_type": "code",
   "execution_count": 6,
   "metadata": {},
   "outputs": [
    {
     "name": "stdout",
     "output_type": "stream",
     "text": [
      "User inserted\n",
      "User inserted\n",
      "User inserted\n",
      "User inserted\n"
     ]
    }
   ],
   "source": [
    "for x in list_users:\n",
    "    print(requests.get(f\"http://localhost:5000/user/create/{x}\").text)"
   ]
  },
  {
   "cell_type": "markdown",
   "metadata": {},
   "source": [
    "### 2. Chat endpoints:"
   ]
  },
  {
   "cell_type": "markdown",
   "metadata": {},
   "source": [
    "- (GET) `/chat/create/<chat_user>`\n",
    "  - **Purpose:** Create a conversation to load messages\n",
    "  - **Params:** An array of users ids `[user_id]`\n",
    "  - **Returns:** `chat_id`"
   ]
  },
  {
   "cell_type": "code",
   "execution_count": 37,
   "metadata": {},
   "outputs": [
    {
     "data": {
      "text/plain": [
       "'Chat inserted'"
      ]
     },
     "execution_count": 37,
     "metadata": {},
     "output_type": "execute_result"
    }
   ],
   "source": [
    "chat_name=\"Party\"\n",
    "requests.get(f\"http://localhost:5000/chat/create/{chat_name}\").text"
   ]
  },
  {
   "cell_type": "markdown",
   "metadata": {},
   "source": [
    "- (GET) `/chat/<chat_id>/adduser/<user_name>`\n",
    "  - **Purpose:** Add a user to a chat, this is optional just in case you want to add more users to a chat after it's creation.\n",
    "  - **Params:** `user_id`\n",
    "  - **Returns:** `chat_id`"
   ]
  },
  {
   "cell_type": "code",
   "execution_count": 38,
   "metadata": {},
   "outputs": [],
   "source": [
    "list_users=data['raw_character_text'].unique()"
   ]
  },
  {
   "cell_type": "code",
   "execution_count": 39,
   "metadata": {},
   "outputs": [
    {
     "name": "stdout",
     "output_type": "stream",
     "text": [
      "User inserted\n",
      "User inserted\n",
      "User inserted\n",
      "User inserted\n"
     ]
    }
   ],
   "source": [
    "chat_id=1\n",
    "for x in list_users:\n",
    "    print(requests.get(f\"http://localhost:5000/chat/{chat_id}/adduser/{x}\").text)"
   ]
  },
  {
   "cell_type": "markdown",
   "metadata": {},
   "source": [
    "- (POST) `/chat/<chat_id>/mensajes/<texto>/adduser/<usuario>`\n",
    "  - **Purpose:** Add a message to the conversation. Help: Before adding the chat message to the database, check that the incoming user is part of this chat id. If not, raise an exception.\n",
    "  - **Params:**\n",
    "    - `chat_id`: Chat to store message\n",
    "    - `user_id`: the user that writes the message\n",
    "    - `text`: Message text\n",
    "  - **Returns:** `message_id`"
   ]
  },
  {
   "cell_type": "code",
   "execution_count": 40,
   "metadata": {
    "scrolled": false
   },
   "outputs": [
    {
     "name": "stdout",
     "output_type": "stream",
     "text": [
      "Users in group, corresponding text inserted\n"
     ]
    }
   ],
   "source": [
    "chat_id=1\n",
    "for x,y in zip(data['raw_character_text'],data['spoken_words']):\n",
    "    lista=requests.get(f\"http://localhost:5000/chat/{chat_id}/mensajes/{y}/adduser/{x}\").text\n",
    "print(lista)"
   ]
  },
  {
   "cell_type": "markdown",
   "metadata": {},
   "source": [
    "- (GET) `/chat/<chat_id>/list`\n",
    "  - **Purpose:** Get all messages from `chat_id`\n",
    "  - **Returns:** json array with all messages from this `chat_id`"
   ]
  },
  {
   "cell_type": "code",
   "execution_count": 180,
   "metadata": {
    "scrolled": false
   },
   "outputs": [
    {
     "data": {
      "text/plain": [
       "{'autor': 'Homer Simpson',\n",
       " 'texto': 'Never thrown a party¿ What about that big bash we had with all the champagne and musicians and holy men and everything¿'}"
      ]
     },
     "execution_count": 180,
     "metadata": {},
     "output_type": "execute_result"
    }
   ],
   "source": [
    "numero=1\n",
    "lista=requests.get(f\"http://localhost:5000/chat/{numero}/list\").json()[0]['mensajes']\n",
    "lista[0]"
   ]
  },
  {
   "cell_type": "markdown",
   "metadata": {},
   "source": [
    "### 3. Sentiment analysis"
   ]
  },
  {
   "cell_type": "markdown",
   "metadata": {},
   "source": [
    "- (GET) `/chat/<chat_id>/sentiment`\n",
    "  - **Purpose:** Analyze messages from `chat_id`. Use `NLTK` sentiment analysis package for this task\n",
    "  - **Returns:** json with all sentiments from messages in the chat\n",
    "​"
   ]
  },
  {
   "cell_type": "code",
   "execution_count": 146,
   "metadata": {},
   "outputs": [
    {
     "data": {
      "text/plain": [
       "{'compound': 0.9755, 'neg': 0.073, 'neu': 0.812, 'pos': 0.115}"
      ]
     },
     "execution_count": 146,
     "metadata": {},
     "output_type": "execute_result"
    }
   ],
   "source": [
    "chat_id=1\n",
    "requests.get(f\"http://localhost:5000/chat/{chat_id}/sentiment\").json()"
   ]
  },
  {
   "cell_type": "markdown",
   "metadata": {},
   "source": [
    "- Positive sentiment: compound score >= 0.05\n",
    "- Neutral sentiment: \n",
    "    - compound score > -0.05\n",
    "    - compound score < 0.05\n",
    "- Negative sentiment: compound score <= -0.05*"
   ]
  },
  {
   "cell_type": "markdown",
   "metadata": {},
   "source": [
    "### 4. NLP Recommender System"
   ]
  },
  {
   "cell_type": "markdown",
   "metadata": {},
   "source": [
    "- (GET) `/user/<user_id>/recommend/<chat_id>`\n",
    "  - **Purpose:** Recommend friend to this user based on chat contents\n",
    "  - **Returns:** json array with top 3 similar users"
   ]
  },
  {
   "cell_type": "code",
   "execution_count": 189,
   "metadata": {},
   "outputs": [
    {
     "data": {
      "text/plain": [
       "'{\"Homer Simpson\": 0.42663071779135514, \"Lisa Simpson\": 0.37640402516592697, \"Bart Simpson\": 0.22551331056809817}'"
      ]
     },
     "execution_count": 189,
     "metadata": {},
     "output_type": "execute_result"
    }
   ],
   "source": [
    "user_name=\"Marge Simpson\"\n",
    "chat_id=1\n",
    "requests.get(f\"http://localhost:5000/user/{user_name}/recommend/{chat_id}\").text"
   ]
  },
  {
   "cell_type": "code",
   "execution_count": null,
   "metadata": {},
   "outputs": [],
   "source": []
  }
 ],
 "metadata": {
  "kernelspec": {
   "display_name": "Python 3",
   "language": "python",
   "name": "python3"
  },
  "language_info": {
   "codemirror_mode": {
    "name": "ipython",
    "version": 3
   },
   "file_extension": ".py",
   "mimetype": "text/x-python",
   "name": "python",
   "nbconvert_exporter": "python",
   "pygments_lexer": "ipython3",
   "version": "3.7.6"
  }
 },
 "nbformat": 4,
 "nbformat_minor": 4
}
